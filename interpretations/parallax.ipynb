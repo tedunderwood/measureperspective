{
 "cells": [
  {
   "cell_type": "markdown",
   "metadata": {},
   "source": [
    "# Parallax calculations"
   ]
  },
  {
   "cell_type": "code",
   "execution_count": 1,
   "metadata": {},
   "outputs": [],
   "source": [
    "import pandas as pd\n",
    "import numpy as np\n",
    "import ast, csv, glob\n",
    "from statsmodels.stats.weightstats import DescrStatsW\n",
    "from scipy.stats import ttest_ind\n",
    "from matplotlib import pyplot as plt\n",
    "%matplotlib inline"
   ]
  },
  {
   "cell_type": "markdown",
   "metadata": {},
   "source": [
    "### Get the data\n",
    "\n",
    "The function ```get_sf_surprise()``` in **../logistic/main_experiment.py** produces a number of files recording comparisons between two adjacent 30-year periods. We're interested in **../results/sf1940_forward_surprises.tsv**, which records the differences between a model trained on 1910-39 and one trained on 1940-69, looking in the forward direction. "
   ]
  },
  {
   "cell_type": "code",
   "execution_count": 80,
   "metadata": {},
   "outputs": [
    {
     "data": {
      "text/plain": [
       "(513, 8)"
      ]
     },
     "execution_count": 80,
     "metadata": {},
     "output_type": "execute_result"
    }
   ],
   "source": [
    "surp = pd.read_csv('../results/sf1940_forward_surprises.tsv', sep = '\\t')\n",
    "surp.shape"
   ]
  },
  {
   "cell_type": "markdown",
   "metadata": {},
   "source": [
    "Some data munging is required to translate the raw data into a visualizable form. For one thing, we've broken volumes into multiple parts. The predictions for different parts of a volume are going to need to be averaged.\n",
    "\n",
    "The columns of the data frame are also complicated. The original function ```get_rcc_surprise()``` works with multiple randomly-selected subsets of the data, and compares them to each other. There is no guarantee that a given volume-part will be present on either side of a comparison. So the predicted probabilities for each volume part are aggregated in a dictionary. That dictionary is written to file in its literal form, as a string. We want to aggregate the different predictions for each volume part; to do that, we will need to use ast.literal_eval to turn the string back into a Python dictionary.\n",
    "\n",
    "First, however, we create a new column with just the volume part of the docid for each volume."
   ]
  },
  {
   "cell_type": "code",
   "execution_count": 81,
   "metadata": {},
   "outputs": [
    {
     "data": {
      "text/html": [
       "<div>\n",
       "<style scoped>\n",
       "    .dataframe tbody tr th:only-of-type {\n",
       "        vertical-align: middle;\n",
       "    }\n",
       "\n",
       "    .dataframe tbody tr th {\n",
       "        vertical-align: top;\n",
       "    }\n",
       "\n",
       "    .dataframe thead th {\n",
       "        text-align: right;\n",
       "    }\n",
       "</style>\n",
       "<table border=\"1\" class=\"dataframe\">\n",
       "  <thead>\n",
       "    <tr style=\"text-align: right;\">\n",
       "      <th></th>\n",
       "      <th>docid</th>\n",
       "      <th>diff</th>\n",
       "      <th>original</th>\n",
       "      <th>alien</th>\n",
       "      <th>firstpub</th>\n",
       "      <th>author</th>\n",
       "      <th>tags</th>\n",
       "      <th>title</th>\n",
       "      <th>volid</th>\n",
       "    </tr>\n",
       "  </thead>\n",
       "  <tbody>\n",
       "    <tr>\n",
       "      <th>0</th>\n",
       "      <td>mdp.39015018624778_0</td>\n",
       "      <td>{'D12811': -0.10444632238296303, 'D1260': -0.3...</td>\n",
       "      <td>{'O17': 0.9999608107717534, 'O29': 0.999996634...</td>\n",
       "      <td>{'A16': 0.9599324011588164, 'A22': 0.976699739...</td>\n",
       "      <td>1953</td>\n",
       "      <td>Clarke, Arthur C. (Arthur Charles)</td>\n",
       "      <td>sf_oclc</td>\n",
       "      <td>Expedition to Earth : | eleven science-fiction...</td>\n",
       "      <td>mdp.39015018624778</td>\n",
       "    </tr>\n",
       "    <tr>\n",
       "      <th>1</th>\n",
       "      <td>uc1.b4094480_0</td>\n",
       "      <td>{'D12665': -0.44590027233237195, 'D12178': -0....</td>\n",
       "      <td>{'O17': 0.993713666556202, 'O2': 0.87274280041...</td>\n",
       "      <td>{'A16': 0.8609706534120358, 'A22': 0.944917104...</td>\n",
       "      <td>1957</td>\n",
       "      <td>Wyndham, John</td>\n",
       "      <td>sf_oclc</td>\n",
       "      <td>The Midwich cuckoos, | $c: by John Wyndham.</td>\n",
       "      <td>uc1.b4094480</td>\n",
       "    </tr>\n",
       "    <tr>\n",
       "      <th>2</th>\n",
       "      <td>mdp.39015056246211_1</td>\n",
       "      <td>{'D1251': 1.2786784505656621, 'D12799': 0.5853...</td>\n",
       "      <td>{'O6': 0.9885778466061584, 'O9': 0.99187004273...</td>\n",
       "      <td>{'A16': 0.41999078334697626, 'A22': 0.43840494...</td>\n",
       "      <td>1958</td>\n",
       "      <td>Bester, Alfred</td>\n",
       "      <td>sf_loc</td>\n",
       "      <td>Starburst</td>\n",
       "      <td>mdp.39015056246211</td>\n",
       "    </tr>\n",
       "    <tr>\n",
       "      <th>3</th>\n",
       "      <td>mdp.39015010321076_1</td>\n",
       "      <td>{'D12811': 0.024317588009186486, 'D1251': -0.1...</td>\n",
       "      <td>{'O17': 0.9697555496310428, 'O6': 0.2677818791...</td>\n",
       "      <td>{'A16': 0.7158841314936529, 'A22': 0.816507921...</td>\n",
       "      <td>1967</td>\n",
       "      <td>Davies, L. P. (Leslie Purnell)</td>\n",
       "      <td>sf_oclc|fantasy_oclc</td>\n",
       "      <td>Psychogeist | $c: [by] L. P. Davies.</td>\n",
       "      <td>mdp.39015010321076</td>\n",
       "    </tr>\n",
       "    <tr>\n",
       "      <th>4</th>\n",
       "      <td>uc1.b3435509_0</td>\n",
       "      <td>{'D12591': 0.9170035398163362, 'D12896': 0.325...</td>\n",
       "      <td>{'O26': 0.20514739409567345, 'O14': 0.42581021...</td>\n",
       "      <td>{'A16': 0.22401720562111269, 'A22': 0.10145114...</td>\n",
       "      <td>1962</td>\n",
       "      <td>Christopher, John</td>\n",
       "      <td>sf_oclc</td>\n",
       "      <td>The world in winter</td>\n",
       "      <td>uc1.b3435509</td>\n",
       "    </tr>\n",
       "  </tbody>\n",
       "</table>\n",
       "</div>"
      ],
      "text/plain": [
       "                  docid                                               diff  \\\n",
       "0  mdp.39015018624778_0  {'D12811': -0.10444632238296303, 'D1260': -0.3...   \n",
       "1        uc1.b4094480_0  {'D12665': -0.44590027233237195, 'D12178': -0....   \n",
       "2  mdp.39015056246211_1  {'D1251': 1.2786784505656621, 'D12799': 0.5853...   \n",
       "3  mdp.39015010321076_1  {'D12811': 0.024317588009186486, 'D1251': -0.1...   \n",
       "4        uc1.b3435509_0  {'D12591': 0.9170035398163362, 'D12896': 0.325...   \n",
       "\n",
       "                                            original  \\\n",
       "0  {'O17': 0.9999608107717534, 'O29': 0.999996634...   \n",
       "1  {'O17': 0.993713666556202, 'O2': 0.87274280041...   \n",
       "2  {'O6': 0.9885778466061584, 'O9': 0.99187004273...   \n",
       "3  {'O17': 0.9697555496310428, 'O6': 0.2677818791...   \n",
       "4  {'O26': 0.20514739409567345, 'O14': 0.42581021...   \n",
       "\n",
       "                                               alien  firstpub  \\\n",
       "0  {'A16': 0.9599324011588164, 'A22': 0.976699739...      1953   \n",
       "1  {'A16': 0.8609706534120358, 'A22': 0.944917104...      1957   \n",
       "2  {'A16': 0.41999078334697626, 'A22': 0.43840494...      1958   \n",
       "3  {'A16': 0.7158841314936529, 'A22': 0.816507921...      1967   \n",
       "4  {'A16': 0.22401720562111269, 'A22': 0.10145114...      1962   \n",
       "\n",
       "                               author                  tags  \\\n",
       "0  Clarke, Arthur C. (Arthur Charles)               sf_oclc   \n",
       "1                       Wyndham, John               sf_oclc   \n",
       "2                      Bester, Alfred                sf_loc   \n",
       "3      Davies, L. P. (Leslie Purnell)  sf_oclc|fantasy_oclc   \n",
       "4                   Christopher, John               sf_oclc   \n",
       "\n",
       "                                               title               volid  \n",
       "0  Expedition to Earth : | eleven science-fiction...  mdp.39015018624778  \n",
       "1        The Midwich cuckoos, | $c: by John Wyndham.        uc1.b4094480  \n",
       "2                                          Starburst  mdp.39015056246211  \n",
       "3               Psychogeist | $c: [by] L. P. Davies.  mdp.39015010321076  \n",
       "4                                The world in winter        uc1.b3435509  "
      ]
     },
     "execution_count": 81,
     "metadata": {},
     "output_type": "execute_result"
    }
   ],
   "source": [
    "def getvol(adoc):\n",
    "    return adoc.split('_')[0]\n",
    "\n",
    "surp = surp.assign(volid = surp.docid.map(getvol))\n",
    "surp.head()"
   ]
  },
  {
   "cell_type": "markdown",
   "metadata": {},
   "source": [
    "### Exploratory analysis\n",
    "\n",
    "Just understanding the patterns in the data."
   ]
  },
  {
   "cell_type": "code",
   "execution_count": 98,
   "metadata": {},
   "outputs": [
    {
     "name": "stdout",
     "output_type": "stream",
     "text": [
      "11.450381679389313\n",
      "30.0\n"
     ]
    }
   ],
   "source": [
    "originals = []\n",
    "aliens = []\n",
    "\n",
    "for idx, row in surp.iterrows():\n",
    "    if 'sf' not in row.tags and 'bailey' not in row.tags:\n",
    "        continue\n",
    "        # because we're not interested in visualizing the random\n",
    "        # contrast set\n",
    "\n",
    "    orig = ast.literal_eval(row['original'])\n",
    "    alien = ast.literal_eval(row['alien'])\n",
    "    originals.append(len(set(orig.values())))\n",
    "    aliens.append(len(set(alien.values())))\n",
    "    if len(orig) != len(set(orig.values())):\n",
    "        print('not equal')\n",
    "    if len(alien) != len(set(alien.values())):\n",
    "        print('not equal')\n",
    "    \n",
    "print(sum(originals)/len(originals))\n",
    "print(sum(aliens) / len(aliens))"
   ]
  },
  {
   "cell_type": "markdown",
   "metadata": {},
   "source": [
    "### Some complicated shit that didn't end up getting used\n",
    "\n",
    "I really don't remember why I thought it might be necessary to weight different models ... oh yeah, I thought some models might be less regularized and would have more extreme values than others, and they might need to be downweighted. So I created a complex way of doing that using inverse variances. None of that ended up being used. If you check out ```figure3.R```, you'll see we plot the unweighted means."
   ]
  },
  {
   "cell_type": "code",
   "execution_count": 83,
   "metadata": {},
   "outputs": [],
   "source": [
    "values = dict()\n",
    "for docid, row in surp.iterrows():\n",
    "    probdict = ast.literal_eval(row.original)\n",
    "    for k, v in probdict.items():\n",
    "        if k not in values:\n",
    "            values[k] = []\n",
    "        values[k].append(v)\n",
    "    \n",
    "    probdict = ast.literal_eval(row.alien)\n",
    "    for k, v in probdict.items():\n",
    "        if k not in values:\n",
    "            values[k] = []\n",
    "        values[k].append(v)\n",
    "        \n",
    "inverse_variances = dict()\n",
    "for k, v in values.items():\n",
    "    inverse_variances[k] = 1 / np.var(v)"
   ]
  },
  {
   "cell_type": "code",
   "execution_count": 84,
   "metadata": {},
   "outputs": [],
   "source": [
    "def weighted_stats(observations, inverse_variances):\n",
    "    vals = []\n",
    "    weights = []\n",
    "    for k, v in observations:\n",
    "        vals.append(v)\n",
    "        weights.append(inverse_variances[k])\n",
    "    \n",
    "    weights = np.array(weights)\n",
    "    weights = weights / np.sum(weights)\n",
    "    vals = np.array(vals)\n",
    "    \n",
    "    stats = DescrStatsW(vals, weights=weights)\n",
    "    \n",
    "    return stats.mean, stats.std       "
   ]
  },
  {
   "cell_type": "markdown",
   "metadata": {},
   "source": [
    "### The section where the data transformation actually takes place\n",
    "\n",
    "We group volume parts by volume ID, and calculate mean prewar and postwar predictions for each volume. We also calculate a weighted value. These ended up not being very different.\n"
   ]
  },
  {
   "cell_type": "code",
   "execution_count": 85,
   "metadata": {},
   "outputs": [],
   "source": [
    "fieldnames = ['volid', 'author', 'title', 'firstpub', 'prewarmean', 'postwarmean',\n",
    "              'unweightpremean', 'unweightpostmean',\n",
    "              'prestd', 'poststd', 'diff', 'ttest', 'pval']\n",
    "\n",
    "with open('1940surprises.tsv', mode = 'w', encoding = 'utf-8') as f:\n",
    "    f.write('\\t'.join(fieldnames) + '\\n')\n",
    "    \n",
    "for volid, df in surp.groupby('volid'):\n",
    "    df.reset_index(inplace = True)\n",
    "    tags = df.loc[0, 'tags']\n",
    "    if 'sf_loc' in tags or 'sf_oclc' in tags or 'bailey' in tags:\n",
    "        prewartuples = []\n",
    "        postwartuples = []\n",
    "        prevals = []\n",
    "        postvals = []\n",
    "        \n",
    "        for idx, row in df.iterrows():\n",
    "            prewar = ast.literal_eval(row.alien)\n",
    "            postwar = ast.literal_eval(row.original)\n",
    "            for k, v in prewar.items():\n",
    "                prewartuples.append((k, v))\n",
    "                prevals.append(v)\n",
    "            for k, v in postwar.items():\n",
    "                postwartuples.append((k, v))\n",
    "                postvals.append(v)\n",
    "                \n",
    "        premean, prestd = weighted_stats(prewartuples, inverse_variances)\n",
    "        postmean, poststd = weighted_stats(postwartuples, inverse_variances)\n",
    "        \n",
    "        unweightpremean = np.mean(prevals)\n",
    "        unweightpostmean = np.mean(postvals)\n",
    "        \n",
    "        statistic, pvalue = ttest_ind(prevals, postvals, equal_var = False)\n",
    "        o = dict()\n",
    "        o['volid'] = volid\n",
    "        o['title'] = df.loc[0, 'title']\n",
    "        o['author'] = df.loc[0, 'author']\n",
    "        o['firstpub'] = df.loc[0, 'firstpub']\n",
    "        o['prewarmean'] = premean\n",
    "        o['postwarmean'] = postmean\n",
    "        o['unweightpremean'] = unweightpremean\n",
    "        o['unweightpostmean'] = unweightpostmean\n",
    "        o['diff'] = postmean - premean\n",
    "        o['prestd'] = np.std(prevals)\n",
    "        o['poststd'] = np.std(postvals)\n",
    "        o['ttest'] = statistic\n",
    "        o['pval'] = pvalue\n",
    "        with open('1940surprises.tsv', mode = 'a', encoding = 'utf-8') as f:\n",
    "            writer = csv.DictWriter(f, delimiter = '\\t', fieldnames = fieldnames)\n",
    "            writer.writerow(o)\n",
    "        "
   ]
  },
  {
   "cell_type": "markdown",
   "metadata": {},
   "source": [
    "#### filtering the data\n",
    "\n",
    "Now there's a complex folderol which I believe is about a) primarily filtering the data, using an earlier (manually-winnowed) version of the data as a guide and b) inheriting the 'colour' column from an earlier version of the data. The colour defines which volumes are printed in black and labeled."
   ]
  },
  {
   "cell_type": "code",
   "execution_count": 86,
   "metadata": {},
   "outputs": [
    {
     "data": {
      "text/plain": [
       "(19, 8)"
      ]
     },
     "execution_count": 86,
     "metadata": {},
     "output_type": "execute_result"
    }
   ],
   "source": [
    "old = pd.read_csv('../results/sf1940_means.tsv', sep = '\\t')\n",
    "old.shape"
   ]
  },
  {
   "cell_type": "code",
   "execution_count": 87,
   "metadata": {},
   "outputs": [],
   "source": [
    "new = pd.read_csv('../interpretations/1940surprises.tsv', sep = '\\t', index_col = 'volid')"
   ]
  },
  {
   "cell_type": "code",
   "execution_count": 88,
   "metadata": {},
   "outputs": [
    {
     "data": {
      "text/plain": [
       "(118, 12)"
      ]
     },
     "execution_count": 88,
     "metadata": {},
     "output_type": "execute_result"
    }
   ],
   "source": [
    "new.shape"
   ]
  },
  {
   "cell_type": "code",
   "execution_count": 89,
   "metadata": {},
   "outputs": [
    {
     "data": {
      "image/png": "[encoded data removed]",
      "text/plain": [
       "<matplotlib.figure.Figure at 0x1a2a0c1e48>"
      ]
     },
     "metadata": {},
     "output_type": "display_data"
    }
   ],
   "source": [
    "plt.hist(new.unweightpremean, bins = 20)\n",
    "plt.show()"
   ]
  },
  {
   "cell_type": "code",
   "execution_count": 102,
   "metadata": {},
   "outputs": [
    {
     "data": {
      "image/png": "[encoded data removed]",
      "text/plain": [
       "<matplotlib.figure.Figure at 0x1a1ea6d518>"
      ]
     },
     "metadata": {},
     "output_type": "display_data"
    }
   ],
   "source": [
    "plt.hist(new.unweightpostmean, bins = 25)\n",
    "plt.show()"
   ]
  },
  {
   "cell_type": "code",
   "execution_count": 91,
   "metadata": {},
   "outputs": [],
   "source": [
    "keepers = set(old.volid)\n",
    "keepers.add('uc1.$b102273')"
   ]
  },
  {
   "cell_type": "code",
   "execution_count": 92,
   "metadata": {},
   "outputs": [],
   "source": [
    "new = new[new.index.isin(keepers)]"
   ]
  },
  {
   "cell_type": "markdown",
   "metadata": {},
   "source": [
    "**Filtering step there.**"
   ]
  },
  {
   "cell_type": "code",
   "execution_count": 93,
   "metadata": {},
   "outputs": [
    {
     "data": {
      "text/plain": [
       "(20, 12)"
      ]
     },
     "execution_count": 93,
     "metadata": {},
     "output_type": "execute_result"
    }
   ],
   "source": [
    "new.shape"
   ]
  },
  {
   "cell_type": "code",
   "execution_count": 94,
   "metadata": {},
   "outputs": [],
   "source": [
    "old.set_index('volid', inplace = True)\n",
    "new = new.assign(colour = old['colour'])"
   ]
  },
  {
   "cell_type": "code",
   "execution_count": 95,
   "metadata": {},
   "outputs": [],
   "source": [
    "new.loc['uc1.$b102273', 'colour'] = 'gray'"
   ]
  },
  {
   "cell_type": "markdown",
   "metadata": {},
   "source": [
    "#### actually write data to file"
   ]
  },
  {
   "cell_type": "code",
   "execution_count": 96,
   "metadata": {},
   "outputs": [],
   "source": [
    "new.to_csv('1940plotarrows.tsv', index_label = 'volid', sep = '\\t')"
   ]
  },
  {
   "cell_type": "code",
   "execution_count": 86,
   "metadata": {},
   "outputs": [
    {
     "data": {
      "text/html": [
       "<div>\n",
       "<table border=\"1\" class=\"dataframe\">\n",
       "  <thead>\n",
       "    <tr style=\"text-align: right;\">\n",
       "      <th></th>\n",
       "      <th>author</th>\n",
       "      <th>title</th>\n",
       "      <th>firstpub</th>\n",
       "      <th>prewarmean</th>\n",
       "      <th>postwarmean</th>\n",
       "      <th>prestd</th>\n",
       "      <th>poststd</th>\n",
       "      <th>diff</th>\n",
       "      <th>ttest</th>\n",
       "      <th>pval</th>\n",
       "      <th>colour</th>\n",
       "    </tr>\n",
       "    <tr>\n",
       "      <th>volid</th>\n",
       "      <th></th>\n",
       "      <th></th>\n",
       "      <th></th>\n",
       "      <th></th>\n",
       "      <th></th>\n",
       "      <th></th>\n",
       "      <th></th>\n",
       "      <th></th>\n",
       "      <th></th>\n",
       "      <th></th>\n",
       "      <th></th>\n",
       "    </tr>\n",
       "  </thead>\n",
       "  <tbody>\n",
       "    <tr>\n",
       "      <th>mdp.39015008724802</th>\n",
       "      <td>Merril, Judith</td>\n",
       "      <td>SF; the best of the best.</td>\n",
       "      <td>1967</td>\n",
       "      <td>0.415794</td>\n",
       "      <td>0.690476</td>\n",
       "      <td>0.140296</td>\n",
       "      <td>0.075441</td>\n",
       "      <td>0.274682</td>\n",
       "      <td>-9.450210</td>\n",
       "      <td>2.877652e-11</td>\n",
       "      <td>black</td>\n",
       "    </tr>\n",
       "    <tr>\n",
       "      <th>mdp.39015066050850</th>\n",
       "      <td>Vonnegut, Kurt</td>\n",
       "      <td>Player piano.</td>\n",
       "      <td>1952</td>\n",
       "      <td>0.367623</td>\n",
       "      <td>0.512169</td>\n",
       "      <td>0.161752</td>\n",
       "      <td>0.032036</td>\n",
       "      <td>0.144546</td>\n",
       "      <td>-8.376448</td>\n",
       "      <td>1.463180e-09</td>\n",
       "      <td>black</td>\n",
       "    </tr>\n",
       "    <tr>\n",
       "      <th>mdp.39015003922005</th>\n",
       "      <td>Heinlein, Robert A. (Robert Anson)</td>\n",
       "      <td>Stranger in a strange land.</td>\n",
       "      <td>1961</td>\n",
       "      <td>0.221000</td>\n",
       "      <td>0.505439</td>\n",
       "      <td>0.165838</td>\n",
       "      <td>0.001557</td>\n",
       "      <td>0.284438</td>\n",
       "      <td>-6.824835</td>\n",
       "      <td>1.403550e-06</td>\n",
       "      <td>black</td>\n",
       "    </tr>\n",
       "    <tr>\n",
       "      <th>mdp.39015020680917</th>\n",
       "      <td>Simak, Clifford D</td>\n",
       "      <td>Way station</td>\n",
       "      <td>1963</td>\n",
       "      <td>0.556094</td>\n",
       "      <td>0.969216</td>\n",
       "      <td>0.104968</td>\n",
       "      <td>0.046781</td>\n",
       "      <td>0.413123</td>\n",
       "      <td>-6.737414</td>\n",
       "      <td>1.262753e-07</td>\n",
       "      <td>gray</td>\n",
       "    </tr>\n",
       "    <tr>\n",
       "      <th>mdp.39015052467530</th>\n",
       "      <td>Le Guin, Ursula K</td>\n",
       "      <td>The left hand of darkness</td>\n",
       "      <td>1969</td>\n",
       "      <td>0.525780</td>\n",
       "      <td>0.778591</td>\n",
       "      <td>0.042151</td>\n",
       "      <td>0.055449</td>\n",
       "      <td>0.252811</td>\n",
       "      <td>-6.432946</td>\n",
       "      <td>5.632682e-07</td>\n",
       "      <td>black</td>\n",
       "    </tr>\n",
       "  </tbody>\n",
       "</table>\n",
       "</div>"
      ],
      "text/plain": [
       "                                                author  \\\n",
       "volid                                                    \n",
       "mdp.39015008724802                      Merril, Judith   \n",
       "mdp.39015066050850                      Vonnegut, Kurt   \n",
       "mdp.39015003922005  Heinlein, Robert A. (Robert Anson)   \n",
       "mdp.39015020680917                   Simak, Clifford D   \n",
       "mdp.39015052467530                   Le Guin, Ursula K   \n",
       "\n",
       "                                          title  firstpub  prewarmean  \\\n",
       "volid                                                                   \n",
       "mdp.39015008724802    SF; the best of the best.      1967    0.415794   \n",
       "mdp.39015066050850                Player piano.      1952    0.367623   \n",
       "mdp.39015003922005  Stranger in a strange land.      1961    0.221000   \n",
       "mdp.39015020680917                  Way station      1963    0.556094   \n",
       "mdp.39015052467530    The left hand of darkness      1969    0.525780   \n",
       "\n",
       "                    postwarmean    prestd   poststd      diff     ttest  \\\n",
       "volid                                                                     \n",
       "mdp.39015008724802     0.690476  0.140296  0.075441  0.274682 -9.450210   \n",
       "mdp.39015066050850     0.512169  0.161752  0.032036  0.144546 -8.376448   \n",
       "mdp.39015003922005     0.505439  0.165838  0.001557  0.284438 -6.824835   \n",
       "mdp.39015020680917     0.969216  0.104968  0.046781  0.413123 -6.737414   \n",
       "mdp.39015052467530     0.778591  0.042151  0.055449  0.252811 -6.432946   \n",
       "\n",
       "                            pval colour  \n",
       "volid                                    \n",
       "mdp.39015008724802  2.877652e-11  black  \n",
       "mdp.39015066050850  1.463180e-09  black  \n",
       "mdp.39015003922005  1.403550e-06  black  \n",
       "mdp.39015020680917  1.262753e-07   gray  \n",
       "mdp.39015052467530  5.632682e-07  black  "
      ]
     },
     "execution_count": 86,
     "metadata": {},
     "output_type": "execute_result"
    }
   ],
   "source": [
    "new.head()"
   ]
  },
  {
   "cell_type": "code",
   "execution_count": 83,
   "metadata": {},
   "outputs": [
    {
     "data": {
      "text/plain": [
       "0     black\n",
       "1     black\n",
       "2      gray\n",
       "3      gray\n",
       "4      gray\n",
       "5     black\n",
       "6      gray\n",
       "7      gray\n",
       "8     black\n",
       "9      gray\n",
       "10     gray\n",
       "11     gray\n",
       "12     gray\n",
       "13     gray\n",
       "14     gray\n",
       "15     gray\n",
       "16     gray\n",
       "17    black\n",
       "18     gray\n",
       "Name: colour, dtype: object"
      ]
     },
     "execution_count": 83,
     "metadata": {},
     "output_type": "execute_result"
    }
   ],
   "source": [
    "old.colour"
   ]
  },
  {
   "cell_type": "code",
   "execution_count": 84,
   "metadata": {},
   "outputs": [
    {
     "data": {
      "text/html": [
       "<div>\n",
       "<table border=\"1\" class=\"dataframe\">\n",
       "  <thead>\n",
       "    <tr style=\"text-align: right;\">\n",
       "      <th></th>\n",
       "      <th>index</th>\n",
       "      <th>volid</th>\n",
       "      <th>diff</th>\n",
       "      <th>alien</th>\n",
       "      <th>original</th>\n",
       "      <th>firstpub</th>\n",
       "      <th>colour</th>\n",
       "      <th>author</th>\n",
       "      <th>title</th>\n",
       "    </tr>\n",
       "  </thead>\n",
       "  <tbody>\n",
       "    <tr>\n",
       "      <th>0</th>\n",
       "      <td>0</td>\n",
       "      <td>mdp.39015003922005</td>\n",
       "      <td>0.994679</td>\n",
       "      <td>0.407836</td>\n",
       "      <td>0.616718</td>\n",
       "      <td>1961</td>\n",
       "      <td>black</td>\n",
       "      <td>Heinlein, Robert A. (Robert Anson)</td>\n",
       "      <td>Stranger in a strange land.</td>\n",
       "    </tr>\n",
       "    <tr>\n",
       "      <th>1</th>\n",
       "      <td>1</td>\n",
       "      <td>mdp.39015008724802</td>\n",
       "      <td>0.968220</td>\n",
       "      <td>0.444707</td>\n",
       "      <td>0.648033</td>\n",
       "      <td>1967</td>\n",
       "      <td>black</td>\n",
       "      <td>Merril, Judith</td>\n",
       "      <td>SF; the best of the best.</td>\n",
       "    </tr>\n",
       "    <tr>\n",
       "      <th>2</th>\n",
       "      <td>2</td>\n",
       "      <td>mdp.39015007043006</td>\n",
       "      <td>0.709593</td>\n",
       "      <td>0.594200</td>\n",
       "      <td>0.743215</td>\n",
       "      <td>1942</td>\n",
       "      <td>gray</td>\n",
       "      <td>Heinlein, Robert A. (Robert Anson)</td>\n",
       "      <td>Beyond this horizon.</td>\n",
       "    </tr>\n",
       "    <tr>\n",
       "      <th>3</th>\n",
       "      <td>3</td>\n",
       "      <td>mdp.39015029750877</td>\n",
       "      <td>0.704114</td>\n",
       "      <td>0.564932</td>\n",
       "      <td>0.712796</td>\n",
       "      <td>1954</td>\n",
       "      <td>gray</td>\n",
       "      <td>Hubbard, L. Ron (La Fayette Ron)</td>\n",
       "      <td>Return to tomorrow</td>\n",
       "    </tr>\n",
       "    <tr>\n",
       "      <th>4</th>\n",
       "      <td>4</td>\n",
       "      <td>mdp.39015003498436</td>\n",
       "      <td>0.673311</td>\n",
       "      <td>0.425605</td>\n",
       "      <td>0.567000</td>\n",
       "      <td>1965</td>\n",
       "      <td>gray</td>\n",
       "      <td>NaN</td>\n",
       "      <td>The Magazine of fantasy and science fiction : ...</td>\n",
       "    </tr>\n",
       "  </tbody>\n",
       "</table>\n",
       "</div>"
      ],
      "text/plain": [
       "   index               volid      diff     alien  original  firstpub colour  \\\n",
       "0      0  mdp.39015003922005  0.994679  0.407836  0.616718      1961  black   \n",
       "1      1  mdp.39015008724802  0.968220  0.444707  0.648033      1967  black   \n",
       "2      2  mdp.39015007043006  0.709593  0.594200  0.743215      1942   gray   \n",
       "3      3  mdp.39015029750877  0.704114  0.564932  0.712796      1954   gray   \n",
       "4      4  mdp.39015003498436  0.673311  0.425605  0.567000      1965   gray   \n",
       "\n",
       "                               author  \\\n",
       "0  Heinlein, Robert A. (Robert Anson)   \n",
       "1                      Merril, Judith   \n",
       "2  Heinlein, Robert A. (Robert Anson)   \n",
       "3    Hubbard, L. Ron (La Fayette Ron)   \n",
       "4                                 NaN   \n",
       "\n",
       "                                               title  \n",
       "0                        Stranger in a strange land.  \n",
       "1                          SF; the best of the best.  \n",
       "2                               Beyond this horizon.  \n",
       "3                                 Return to tomorrow  \n",
       "4  The Magazine of fantasy and science fiction : ...  "
      ]
     },
     "execution_count": 84,
     "metadata": {},
     "output_type": "execute_result"
    }
   ],
   "source": [
    "old.head()"
   ]
  },
  {
   "cell_type": "code",
   "execution_count": null,
   "metadata": {
    "collapsed": true
   },
   "outputs": [],
   "source": []
  }
 ],
 "metadata": {
  "anaconda-cloud": {},
  "kernelspec": {
   "display_name": "Python 3",
   "language": "python",
   "name": "python3"
  },
  "language_info": {
   "codemirror_mode": {
    "name": "ipython",
    "version": 3
   },
   "file_extension": ".py",
   "mimetype": "text/x-python",
   "name": "python",
   "nbconvert_exporter": "python",
   "pygments_lexer": "ipython3",
   "version": "3.5.2"
  }
 },
 "nbformat": 4,
 "nbformat_minor": 1
}
