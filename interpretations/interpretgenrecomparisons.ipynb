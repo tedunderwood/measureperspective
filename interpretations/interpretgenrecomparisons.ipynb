{
 "cells": [
  {
   "cell_type": "markdown",
   "metadata": {},
   "source": [
    "# Interpreting comparisons between\n",
    "# a number of specific genres\n",
    "\n",
    "The calculations below support some assertions in passing about the amount of accuracy lost when we use models of one genre to make predictions about another.\n",
    "\n",
    "Note that there is a better metric than \"loss of accuracy,\" though it's harder to understand and I only mention it briefly in the article. For a better version of \"mutual recognition,\" see \"../measuredivergence.:"
   ]
  },
  {
   "cell_type": "code",
   "execution_count": 12,
   "metadata": {},
   "outputs": [],
   "source": [
    "# Let's start with some standard imports.\n",
    "\n",
    "import pandas as pd\n",
    "from matplotlib import pyplot as plt\n",
    "from scipy.stats import pearsonr\n",
    "import numpy as np\n",
    "%matplotlib inline"
   ]
  },
  {
   "cell_type": "code",
   "execution_count": 13,
   "metadata": {},
   "outputs": [
    {
     "data": {
      "text/html": [
       "<div>\n",
       "<table border=\"1\" class=\"dataframe\">\n",
       "  <thead>\n",
       "    <tr style=\"text-align: right;\">\n",
       "      <th></th>\n",
       "      <th>testype</th>\n",
       "      <th>name1</th>\n",
       "      <th>name2</th>\n",
       "      <th>ceiling1</th>\n",
       "      <th>floor1</th>\n",
       "      <th>ceiling2</th>\n",
       "      <th>floor2</th>\n",
       "      <th>meandate1</th>\n",
       "      <th>meandate2</th>\n",
       "      <th>acc1</th>\n",
       "      <th>acc2</th>\n",
       "      <th>alienacc1</th>\n",
       "      <th>alienacc2</th>\n",
       "      <th>spearman</th>\n",
       "      <th>spear1on2</th>\n",
       "      <th>spear2on1</th>\n",
       "      <th>loss</th>\n",
       "      <th>loss1on2</th>\n",
       "      <th>loss2on1</th>\n",
       "    </tr>\n",
       "  </thead>\n",
       "  <tbody>\n",
       "    <tr>\n",
       "      <th>0</th>\n",
       "      <td>scarborough-19cfantasy</td>\n",
       "      <td>scarborough_random_0</td>\n",
       "      <td>19c_fantasy_randomB_0</td>\n",
       "      <td>NaN</td>\n",
       "      <td>NaN</td>\n",
       "      <td>NaN</td>\n",
       "      <td>NaN</td>\n",
       "      <td>1881.085714</td>\n",
       "      <td>1896.642857</td>\n",
       "      <td>0.807143</td>\n",
       "      <td>0.828571</td>\n",
       "      <td>0.750000</td>\n",
       "      <td>0.757143</td>\n",
       "      <td>0.729450</td>\n",
       "      <td>0.767322</td>\n",
       "      <td>0.691577</td>\n",
       "      <td>0.064286</td>\n",
       "      <td>0.071429</td>\n",
       "      <td>0.057143</td>\n",
       "    </tr>\n",
       "    <tr>\n",
       "      <th>1</th>\n",
       "      <td>scarborough-self</td>\n",
       "      <td>scarborough_random_0</td>\n",
       "      <td>scarborough_randomB_0</td>\n",
       "      <td>NaN</td>\n",
       "      <td>NaN</td>\n",
       "      <td>NaN</td>\n",
       "      <td>NaN</td>\n",
       "      <td>1881.085714</td>\n",
       "      <td>1882.671429</td>\n",
       "      <td>0.807143</td>\n",
       "      <td>0.842857</td>\n",
       "      <td>0.921429</td>\n",
       "      <td>0.907143</td>\n",
       "      <td>1.057354</td>\n",
       "      <td>1.065820</td>\n",
       "      <td>1.048888</td>\n",
       "      <td>-0.089286</td>\n",
       "      <td>-0.064286</td>\n",
       "      <td>-0.114286</td>\n",
       "    </tr>\n",
       "    <tr>\n",
       "      <th>2</th>\n",
       "      <td>19cfantasy-self</td>\n",
       "      <td>19c_fantasy_random_0</td>\n",
       "      <td>19c_fantasy_randomB_0</td>\n",
       "      <td>NaN</td>\n",
       "      <td>NaN</td>\n",
       "      <td>NaN</td>\n",
       "      <td>NaN</td>\n",
       "      <td>1896.721429</td>\n",
       "      <td>1896.642857</td>\n",
       "      <td>0.835714</td>\n",
       "      <td>0.828571</td>\n",
       "      <td>0.892857</td>\n",
       "      <td>0.857143</td>\n",
       "      <td>1.104304</td>\n",
       "      <td>1.215788</td>\n",
       "      <td>0.992820</td>\n",
       "      <td>-0.042857</td>\n",
       "      <td>-0.028571</td>\n",
       "      <td>-0.057143</td>\n",
       "    </tr>\n",
       "    <tr>\n",
       "      <th>3</th>\n",
       "      <td>scarborough-19cfantasy</td>\n",
       "      <td>scarborough_random_0</td>\n",
       "      <td>19c_fantasy_randomB_1</td>\n",
       "      <td>NaN</td>\n",
       "      <td>NaN</td>\n",
       "      <td>NaN</td>\n",
       "      <td>NaN</td>\n",
       "      <td>1881.085714</td>\n",
       "      <td>1892.692857</td>\n",
       "      <td>0.807143</td>\n",
       "      <td>0.835714</td>\n",
       "      <td>0.785714</td>\n",
       "      <td>0.750000</td>\n",
       "      <td>0.752467</td>\n",
       "      <td>0.823890</td>\n",
       "      <td>0.681044</td>\n",
       "      <td>0.053571</td>\n",
       "      <td>0.085714</td>\n",
       "      <td>0.021429</td>\n",
       "    </tr>\n",
       "    <tr>\n",
       "      <th>4</th>\n",
       "      <td>scarborough-self</td>\n",
       "      <td>scarborough_random_0</td>\n",
       "      <td>scarborough_randomB_1</td>\n",
       "      <td>NaN</td>\n",
       "      <td>NaN</td>\n",
       "      <td>NaN</td>\n",
       "      <td>NaN</td>\n",
       "      <td>1881.085714</td>\n",
       "      <td>1882.642857</td>\n",
       "      <td>0.807143</td>\n",
       "      <td>0.835714</td>\n",
       "      <td>0.921429</td>\n",
       "      <td>0.914286</td>\n",
       "      <td>1.105290</td>\n",
       "      <td>1.132027</td>\n",
       "      <td>1.078552</td>\n",
       "      <td>-0.096429</td>\n",
       "      <td>-0.078571</td>\n",
       "      <td>-0.114286</td>\n",
       "    </tr>\n",
       "  </tbody>\n",
       "</table>\n",
       "</div>"
      ],
      "text/plain": [
       "                  testype                 name1                  name2  \\\n",
       "0  scarborough-19cfantasy  scarborough_random_0  19c_fantasy_randomB_0   \n",
       "1        scarborough-self  scarborough_random_0  scarborough_randomB_0   \n",
       "2         19cfantasy-self  19c_fantasy_random_0  19c_fantasy_randomB_0   \n",
       "3  scarborough-19cfantasy  scarborough_random_0  19c_fantasy_randomB_1   \n",
       "4        scarborough-self  scarborough_random_0  scarborough_randomB_1   \n",
       "\n",
       "   ceiling1  floor1  ceiling2  floor2    meandate1    meandate2      acc1  \\\n",
       "0       NaN     NaN       NaN     NaN  1881.085714  1896.642857  0.807143   \n",
       "1       NaN     NaN       NaN     NaN  1881.085714  1882.671429  0.807143   \n",
       "2       NaN     NaN       NaN     NaN  1896.721429  1896.642857  0.835714   \n",
       "3       NaN     NaN       NaN     NaN  1881.085714  1892.692857  0.807143   \n",
       "4       NaN     NaN       NaN     NaN  1881.085714  1882.642857  0.807143   \n",
       "\n",
       "       acc2  alienacc1  alienacc2  spearman  spear1on2  spear2on1      loss  \\\n",
       "0  0.828571   0.750000   0.757143  0.729450   0.767322   0.691577  0.064286   \n",
       "1  0.842857   0.921429   0.907143  1.057354   1.065820   1.048888 -0.089286   \n",
       "2  0.828571   0.892857   0.857143  1.104304   1.215788   0.992820 -0.042857   \n",
       "3  0.835714   0.785714   0.750000  0.752467   0.823890   0.681044  0.053571   \n",
       "4  0.835714   0.921429   0.914286  1.105290   1.132027   1.078552 -0.096429   \n",
       "\n",
       "   loss1on2  loss2on1  \n",
       "0  0.071429  0.057143  \n",
       "1 -0.064286 -0.114286  \n",
       "2 -0.028571 -0.057143  \n",
       "3  0.085714  0.021429  \n",
       "4 -0.078571 -0.114286  "
      ]
     },
     "execution_count": 13,
     "metadata": {},
     "output_type": "execute_result"
    }
   ],
   "source": [
    "# Load the data and take a look.\n",
    "\n",
    "results = pd.read_csv('../results/scarboroughto19c_comparisons.tsv', sep = '\\t')\n",
    "results.head()"
   ]
  },
  {
   "cell_type": "code",
   "execution_count": 14,
   "metadata": {},
   "outputs": [],
   "source": [
    "def endswithself(astring):\n",
    "    if astring.endswith('self'):\n",
    "        return True\n",
    "    else:\n",
    "        return False\n",
    "\n",
    "\n",
    "selfcomp = results[results.testype.map(endswithself)]\n",
    "norm = np.mean(selfcomp.spearman)"
   ]
  },
  {
   "cell_type": "code",
   "execution_count": 15,
   "metadata": {},
   "outputs": [
    {
     "name": "stdout",
     "output_type": "stream",
     "text": [
      "0.729830131793 0.0952400856095\n"
     ]
    }
   ],
   "source": [
    "def notwithself(astring):\n",
    "    if astring.endswith('self'):\n",
    "        return False\n",
    "    else:\n",
    "        return True\n",
    "\n",
    "crosscomp = results[results.testype.map(notwithself)]\n",
    "differences = crosscomp.spearman / norm\n",
    "print(np.mean(differences), np.std(differences))"
   ]
  },
  {
   "cell_type": "code",
   "execution_count": 16,
   "metadata": {},
   "outputs": [
    {
     "name": "stdout",
     "output_type": "stream",
     "text": [
      "1.01474308874 0.103679199817\n",
      "0.0281746031746 0.0290848923838\n"
     ]
    }
   ],
   "source": [
    "def relative_predictive_power(agenre):\n",
    "    selfcomp = agenre[agenre.testype.map(endswithself)]\n",
    "    norm = np.mean(selfcomp.spearman)\n",
    "    crosscomp = agenre[agenre.testype.map(notwithself)]\n",
    "    differences = crosscomp.spearman / norm\n",
    "    print(np.mean(differences), np.std(differences))\n",
    "\n",
    "def loss_of_accuracy(agenre):\n",
    "    crosscomp = agenre[agenre.testype.map(notwithself)]\n",
    "    differences = crosscomp.loss\n",
    "    print(np.mean(differences), np.std(differences))\n",
    "\n",
    "bailey19c = pd.read_csv('../results/bailey_to_19cSF_comparisons.tsv', sep = '\\t')\n",
    "relative_predictive_power(bailey19c)\n",
    "\n",
    "loss_of_accuracy(bailey19c)"
   ]
  },
  {
   "cell_type": "code",
   "execution_count": 17,
   "metadata": {},
   "outputs": [
    {
     "name": "stdout",
     "output_type": "stream",
     "text": [
      "0.765317574481 0.111618760102\n",
      "0.0450396825397 0.0313422988171\n"
     ]
    }
   ],
   "source": [
    "scar19c = pd.read_csv('../results/scarboroughto19c_comparisons_nojuv.tsv', sep = '\\t')\n",
    "relative_predictive_power(scar19c)\n",
    "loss_of_accuracy(scar19c)"
   ]
  },
  {
   "cell_type": "code",
   "execution_count": 18,
   "metadata": {},
   "outputs": [
    {
     "name": "stdout",
     "output_type": "stream",
     "text": [
      "0.00237500317314 0.0691200416949\n",
      "0.320238095238 0.0359515925489\n"
     ]
    }
   ],
   "source": [
    "scardetective = pd.read_csv('../results/scarborough2detective_comparisons.tsv', sep = '\\t')\n",
    "relative_predictive_power(scardetective)\n",
    "loss_of_accuracy(scardetective)"
   ]
  },
  {
   "cell_type": "code",
   "execution_count": 19,
   "metadata": {},
   "outputs": [
    {
     "name": "stdout",
     "output_type": "stream",
     "text": [
      "0.696517329415 0.0514752320907\n",
      "0.0525793650794 0.0175693296089\n"
     ]
    }
   ],
   "source": [
    "scarbailey = pd.read_csv('../results/scarborough2bailey_comparisons.tsv', sep = '\\t')\n",
    "relative_predictive_power(scarbailey)\n",
    "loss_of_accuracy(scarbailey)"
   ]
  },
  {
   "cell_type": "code",
   "execution_count": 20,
   "metadata": {},
   "outputs": [
    {
     "name": "stdout",
     "output_type": "stream",
     "text": [
      "0.778002180495 0.0815836448342\n",
      "0.0553571428571 0.0317044618704\n"
     ]
    }
   ],
   "source": [
    "sf2fan = pd.read_csv('../results/sf19ctofantasy19c_comparisons.tsv', sep = '\\t')\n",
    "relative_predictive_power(sf2fan)\n",
    "loss_of_accuracy(sf2fan)"
   ]
  },
  {
   "cell_type": "code",
   "execution_count": 21,
   "metadata": {},
   "outputs": [
    {
     "name": "stdout",
     "output_type": "stream",
     "text": [
      "0.897484701424 0.0917177037944\n",
      "0.0583333333333 0.0214285714286\n"
     ]
    }
   ],
   "source": [
    "bailey2fan = pd.read_csv('../results/baileytofantasy19c_comparisons.tsv', sep = '\\t')\n",
    "relative_predictive_power(bailey2fan)\n",
    "loss_of_accuracy(bailey2fan)"
   ]
  },
  {
   "cell_type": "code",
   "execution_count": 22,
   "metadata": {},
   "outputs": [
    {
     "name": "stdout",
     "output_type": "stream",
     "text": [
      "0.521335721577 0.105803230858\n",
      "0.111904761905 0.0437084755968\n"
     ]
    }
   ],
   "source": [
    "scar2sf = pd.read_csv('../results/scarborough2sf_comparisons.tsv', sep = '\\t')\n",
    "relative_predictive_power(scar2sf)\n",
    "loss_of_accuracy(scar2sf)"
   ]
  },
  {
   "cell_type": "code",
   "execution_count": null,
   "metadata": {},
   "outputs": [],
   "source": []
  }
 ],
 "metadata": {
  "anaconda-cloud": {},
  "kernelspec": {
   "display_name": "Python 3",
   "language": "python",
   "name": "python3"
  },
  "language_info": {
   "codemirror_mode": {
    "name": "ipython",
    "version": 3
   },
   "file_extension": ".py",
   "mimetype": "text/x-python",
   "name": "python",
   "nbconvert_exporter": "python",
   "pygments_lexer": "ipython3",
   "version": "3.5.2"
  }
 },
 "nbformat": 4,
 "nbformat_minor": 2
}
