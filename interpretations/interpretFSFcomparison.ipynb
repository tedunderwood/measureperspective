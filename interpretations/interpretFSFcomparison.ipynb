{
 "cells": [
  {
   "cell_type": "markdown",
   "metadata": {},
   "source": [
    "# Interpretation of SF vs Fantasy  models\n",
    "\n",
    "This is fairly difficult analysis, and I decided that I didn't actually need the full subtlety of the analysis for the article. So I work through a lot of stuff below. But if you want to know what I actually ended up using in the article, consult the very end of the article, where I report \"simple loss calculation.\"\n",
    "\n",
    "**the hard stuff**\n",
    "\n",
    "Degrees of divergence between closely-related models are not easy to measure, and SF and fantasy are, in general, closely related genres.\n",
    "\n",
    "As explained [in another notebook (spacebetweengenres)](https://github.com/tedunderwood/measureperspective/blob/master/measuredivergence/spacebetweengenres.ipynb), the most sensitive way to measure the similarity of two models \n",
    "\n",
    "    1. A vs Z and \n",
    "    2. B vs Z\n",
    "\n",
    "seems to be to compare the predictions of 1 on 2's data, and 2 on 1's data, with a Spearman correlation that has passed through Fisher's transformation (so it's no longer bounded at one). But this correlation needs to be normalized for the inherent stability of the underlying classes. In other words, you also need to compare multiple models of A on Z, and B on Z, and normalize the cross-comparison for the strength of the self-comparison. (You can't expect fantasy to predict SF better than it predicts itself, as it were!)\n",
    "\n",
    "There are a couple of different ways to do that measurement. This is one version. Our goal is to ask *whether the closeness of the relationship between fantasy and science fiction has varied across time from the nineteenth century to the twenty-first*? The answer is yes. It's not a huge variation; these genres are always more closely related than either is, for instance, to detective fiction. But there is a significant change across time."
   ]
  },
  {
   "cell_type": "code",
   "execution_count": 1,
   "metadata": {},
   "outputs": [],
   "source": [
    "# Let's start with some standard imports.\n",
    "\n",
    "import pandas as pd\n",
    "from matplotlib import pyplot as plt\n",
    "from scipy.stats import pearsonr\n",
    "import numpy as np\n",
    "%matplotlib inline"
   ]
  },
  {
   "cell_type": "code",
   "execution_count": 2,
   "metadata": {},
   "outputs": [
    {
     "data": {
      "text/html": [
       "<div>\n",
       "<style scoped>\n",
       "    .dataframe tbody tr th:only-of-type {\n",
       "        vertical-align: middle;\n",
       "    }\n",
       "\n",
       "    .dataframe tbody tr th {\n",
       "        vertical-align: top;\n",
       "    }\n",
       "\n",
       "    .dataframe thead th {\n",
       "        text-align: right;\n",
       "    }\n",
       "</style>\n",
       "<table border=\"1\" class=\"dataframe\">\n",
       "  <thead>\n",
       "    <tr style=\"text-align: right;\">\n",
       "      <th></th>\n",
       "      <th>testype</th>\n",
       "      <th>name1</th>\n",
       "      <th>name2</th>\n",
       "      <th>ceiling</th>\n",
       "      <th>floor</th>\n",
       "      <th>meandate1</th>\n",
       "      <th>meandate2</th>\n",
       "      <th>acc1</th>\n",
       "      <th>acc2</th>\n",
       "      <th>alienacc1</th>\n",
       "      <th>alienacc2</th>\n",
       "      <th>spearman</th>\n",
       "      <th>spear1on2</th>\n",
       "      <th>spear2on1</th>\n",
       "      <th>loss</th>\n",
       "      <th>loss1on2</th>\n",
       "      <th>loss2on1</th>\n",
       "      <th>iteration</th>\n",
       "    </tr>\n",
       "  </thead>\n",
       "  <tbody>\n",
       "    <tr>\n",
       "      <th>0</th>\n",
       "      <td>sfself</td>\n",
       "      <td>temp_sf11909_0</td>\n",
       "      <td>temp_sf21909_0</td>\n",
       "      <td>1909</td>\n",
       "      <td>1800</td>\n",
       "      <td>1877.048611</td>\n",
       "      <td>1886.173611</td>\n",
       "      <td>0.812500</td>\n",
       "      <td>0.895833</td>\n",
       "      <td>0.826389</td>\n",
       "      <td>0.847222</td>\n",
       "      <td>1.508482</td>\n",
       "      <td>1.465429</td>\n",
       "      <td>1.551534</td>\n",
       "      <td>0.017361</td>\n",
       "      <td>0.048611</td>\n",
       "      <td>-0.013889</td>\n",
       "      <td>0</td>\n",
       "    </tr>\n",
       "    <tr>\n",
       "      <th>1</th>\n",
       "      <td>fantasyself</td>\n",
       "      <td>temp_fant11909_0</td>\n",
       "      <td>temp_fant21909_0</td>\n",
       "      <td>1909</td>\n",
       "      <td>1800</td>\n",
       "      <td>1880.875000</td>\n",
       "      <td>1879.842857</td>\n",
       "      <td>0.742647</td>\n",
       "      <td>0.707143</td>\n",
       "      <td>0.742647</td>\n",
       "      <td>0.692857</td>\n",
       "      <td>0.716294</td>\n",
       "      <td>0.684094</td>\n",
       "      <td>0.748493</td>\n",
       "      <td>0.007143</td>\n",
       "      <td>0.014286</td>\n",
       "      <td>0.000000</td>\n",
       "      <td>0</td>\n",
       "    </tr>\n",
       "    <tr>\n",
       "      <th>2</th>\n",
       "      <td>cross</td>\n",
       "      <td>temp_sf11909_0</td>\n",
       "      <td>temp_fant21909_0</td>\n",
       "      <td>1909</td>\n",
       "      <td>1800</td>\n",
       "      <td>1877.048611</td>\n",
       "      <td>1879.842857</td>\n",
       "      <td>0.812500</td>\n",
       "      <td>0.707143</td>\n",
       "      <td>0.777778</td>\n",
       "      <td>0.650000</td>\n",
       "      <td>0.953938</td>\n",
       "      <td>0.804501</td>\n",
       "      <td>1.103375</td>\n",
       "      <td>0.045933</td>\n",
       "      <td>0.057143</td>\n",
       "      <td>0.034722</td>\n",
       "      <td>0</td>\n",
       "    </tr>\n",
       "    <tr>\n",
       "      <th>3</th>\n",
       "      <td>cross</td>\n",
       "      <td>temp_sf21909_0</td>\n",
       "      <td>temp_fant11909_0</td>\n",
       "      <td>1909</td>\n",
       "      <td>1800</td>\n",
       "      <td>1886.173611</td>\n",
       "      <td>1880.875000</td>\n",
       "      <td>0.895833</td>\n",
       "      <td>0.742647</td>\n",
       "      <td>0.784722</td>\n",
       "      <td>0.757353</td>\n",
       "      <td>0.954242</td>\n",
       "      <td>0.927479</td>\n",
       "      <td>0.981005</td>\n",
       "      <td>0.048203</td>\n",
       "      <td>-0.014706</td>\n",
       "      <td>0.111111</td>\n",
       "      <td>0</td>\n",
       "    </tr>\n",
       "    <tr>\n",
       "      <th>4</th>\n",
       "      <td>sfself</td>\n",
       "      <td>temp_sf11909_1</td>\n",
       "      <td>temp_sf21909_1</td>\n",
       "      <td>1909</td>\n",
       "      <td>1800</td>\n",
       "      <td>1880.819444</td>\n",
       "      <td>1881.833333</td>\n",
       "      <td>0.833333</td>\n",
       "      <td>0.895833</td>\n",
       "      <td>0.805556</td>\n",
       "      <td>0.833333</td>\n",
       "      <td>1.335162</td>\n",
       "      <td>1.298084</td>\n",
       "      <td>1.372241</td>\n",
       "      <td>0.045139</td>\n",
       "      <td>0.062500</td>\n",
       "      <td>0.027778</td>\n",
       "      <td>1</td>\n",
       "    </tr>\n",
       "  </tbody>\n",
       "</table>\n",
       "</div>"
      ],
      "text/plain": [
       "       testype             name1             name2  ceiling  floor  \\\n",
       "0       sfself    temp_sf11909_0    temp_sf21909_0     1909   1800   \n",
       "1  fantasyself  temp_fant11909_0  temp_fant21909_0     1909   1800   \n",
       "2        cross    temp_sf11909_0  temp_fant21909_0     1909   1800   \n",
       "3        cross    temp_sf21909_0  temp_fant11909_0     1909   1800   \n",
       "4       sfself    temp_sf11909_1    temp_sf21909_1     1909   1800   \n",
       "\n",
       "     meandate1    meandate2      acc1      acc2  alienacc1  alienacc2  \\\n",
       "0  1877.048611  1886.173611  0.812500  0.895833   0.826389   0.847222   \n",
       "1  1880.875000  1879.842857  0.742647  0.707143   0.742647   0.692857   \n",
       "2  1877.048611  1879.842857  0.812500  0.707143   0.777778   0.650000   \n",
       "3  1886.173611  1880.875000  0.895833  0.742647   0.784722   0.757353   \n",
       "4  1880.819444  1881.833333  0.833333  0.895833   0.805556   0.833333   \n",
       "\n",
       "   spearman  spear1on2  spear2on1      loss  loss1on2  loss2on1  iteration  \n",
       "0  1.508482   1.465429   1.551534  0.017361  0.048611 -0.013889          0  \n",
       "1  0.716294   0.684094   0.748493  0.007143  0.014286  0.000000          0  \n",
       "2  0.953938   0.804501   1.103375  0.045933  0.057143  0.034722          0  \n",
       "3  0.954242   0.927479   0.981005  0.048203 -0.014706  0.111111          0  \n",
       "4  1.335162   1.298084   1.372241  0.045139  0.062500  0.027778          1  "
      ]
     },
     "execution_count": 2,
     "metadata": {},
     "output_type": "execute_result"
    }
   ],
   "source": [
    "# Load the data and take a look.\n",
    "\n",
    "results = pd.read_csv('../results/reliable_comparisons.tsv', sep = '\\t')\n",
    "results.head()\n"
   ]
  },
  {
   "cell_type": "code",
   "execution_count": 3,
   "metadata": {},
   "outputs": [],
   "source": [
    "# Comparisons between F and SF can be grouped by period.\n",
    "# Let's create normalization coefficients for each period\n",
    "\n",
    "grouped = results.groupby('ceiling')\n",
    "ceiling2meanself = dict()\n",
    "\n",
    "for ceil, df in grouped:\n",
    "    selfcomparisons = df[df.testype != 'cross']\n",
    "    meanself = np.mean(selfcomparisons.spearman)\n",
    "    ceiling2meanself[ceil] = meanself\n",
    "\n",
    "def map2mean(a_ceiling):\n",
    "    global ceiling2meanself\n",
    "    return ceiling2meanself[a_ceiling]\n",
    "\n",
    "newcol = results.ceiling.map(map2mean)\n",
    "results = results.assign(normed = results.spearman/newcol)\n"
   ]
  },
  {
   "cell_type": "markdown",
   "metadata": {},
   "source": [
    "Now we have a column (norm) that we can use to normalize the cross-comparisons. But by the way, while we're at it, the average strength of self-comparison is interesting. It correlates very strongly with the mean accuracy of models distinguishing SF and Fantasy from a random contrast set:"
   ]
  },
  {
   "cell_type": "code",
   "execution_count": 5,
   "metadata": {},
   "outputs": [
    {
     "data": {
      "image/png": "[encoded data removed]",
      "text/plain": [
       "<matplotlib.figure.Figure at 0x1a2a3c2ba8>"
      ]
     },
     "metadata": {},
     "output_type": "display_data"
    }
   ],
   "source": [
    "plt.figure(figsize=(8,6))\n",
    "ceilings, means = zip(*[(k, v) for k, v in ceiling2meanself.items()])\n",
    "plt.scatter(ceilings, means)\n",
    "plt.show()"
   ]
  },
  {
   "cell_type": "markdown",
   "metadata": {},
   "source": [
    "That pattern is something fantasy and science fiction have in common: they both, separately, become more distinct from mainstream literature.\n",
    "\n",
    "### The core of the analysis\n",
    "\n",
    "Now let's look at the degree of similarity *between* fantasy and science fiction. This is going to be a trend with a different curve.\n",
    "\n",
    "We have 15 iterations for each period. We'll identify periods through the \"ceiling\" of the date range. Then we'll divide each period by iteration. For each iteration, we'll calculate a mean (normed) Spearman correlation between predictions of fantasy models on science fiction, and vice-versa. This will tell us, in essence,\n",
    "\n",
    "**How good are models trained on one genre at predicting the other -- *relative* to the genres' ability to predict (different samples of) themselves? As we can see above, self-predictive ability does vary over time, so we'll report cross-predictive strength as a *percentage* of it.**"
   ]
  },
  {
   "cell_type": "code",
   "execution_count": 8,
   "metadata": {},
   "outputs": [
    {
     "data": {
      "image/png": "[encoded data removed]",
      "text/plain": [
       "<matplotlib.figure.Figure at 0x1a2a60f828>"
      ]
     },
     "metadata": {},
     "output_type": "display_data"
    }
   ],
   "source": [
    "divergences = []\n",
    "meandates = []\n",
    "grouped_divergences = []\n",
    "dates4groups = []\n",
    "\n",
    "grouped = results.groupby('ceiling')\n",
    "for ceil, df1 in grouped:\n",
    "    nextlevel = df1.groupby('iteration')\n",
    "    thisgroup = []\n",
    "    thesedates = []\n",
    "    for it, df2 in nextlevel:\n",
    "        meanspear = np.mean(df2.normed[df2.testype == 'cross'])\n",
    "        meandate1 = np.mean(df2.meandate1[df2.testype == 'cross'])\n",
    "        meandate2 = np.mean(df2.meandate2[df2.testype == 'cross'])\n",
    "        divergences.append(meanspear)\n",
    "        thisgroup.append(meanspear)\n",
    "        themeandate = (meandate1 + meandate2) / 2\n",
    "        meandates.append(themeandate)\n",
    "        thesedates.append(themeandate)\n",
    "    dates4groups.append(np.mean(thesedates))\n",
    "    grouped_divergences.append(thisgroup)\n",
    "\n",
    "fig, ax = plt.subplots(figsize = (10, 7))\n",
    "plt.scatter(meandates, divergences, facecolors = 'none', edgecolors = 'b', alpha = 0.6)\n",
    "plt.ylabel('percentage similarity')\n",
    "means4groups = [sum(x)/len(x) for x in grouped_divergences]\n",
    "plt.plot(dates4groups, means4groups, color = 'r')\n",
    "plt.show()\n"
   ]
  },
  {
   "cell_type": "code",
   "execution_count": 9,
   "metadata": {},
   "outputs": [],
   "source": [
    "meandates = np.array(meandates)\n",
    "divergences = 1 - np.array(divergences)\n",
    "outframe = pd.DataFrame({'dates': meandates, 'divergence': divergences})\n",
    "outframe.to_csv('groupedFSFdivergences.csv')"
   ]
  },
  {
   "cell_type": "markdown",
   "metadata": {},
   "source": [
    "#### interpretation\n",
    "\n",
    "It's not the crispest pattern in the world. And it depends on a lot of means relative to other means; the underlying data is a bit noisier even than it looks here. But if you trust the methodological argument of [spacebetweengenres](https://github.com/tedunderwood/measureperspective/blob/master/measuredivergence/spacebetweengenres.ipynb), this is pretty convincing evidence that fantasy and science fiction *diverge* at the start of the twentieth century, and then reconverge -- especially in the period 1990-2010.\n",
    "\n",
    "If you prefer boxplots (I don't):"
   ]
  },
  {
   "cell_type": "code",
   "execution_count": 12,
   "metadata": {},
   "outputs": [
    {
     "data": {
      "image/png": "[encoded data removed]",
      "text/plain": [
       "<matplotlib.figure.Figure at 0x1a2a610978>"
      ]
     },
     "metadata": {},
     "output_type": "display_data"
    }
   ],
   "source": [
    "plt.figure(figsize=(10,7))\n",
    "plt.boxplot(grouped_divergences, positions = dates4groups, widths = 5, whis = 'range')\n",
    "plt.xlim(1870, 2010)\n",
    "plt.xticks([1880, 1900, 1920, 1940, 1960, 1980, 2000],[1880, 1900, 1920, 1940, 1960, 1980, 2000])\n",
    "plt.show()"
   ]
  },
  {
   "cell_type": "markdown",
   "metadata": {},
   "source": [
    "#### testing the pattern\n",
    "\n",
    "Suppose you said to yourself: it looks, visually, like fantasy and science fiction have become more similar from 1920 onward. But is that really true? Could I say that in a responsible way?"
   ]
  },
  {
   "cell_type": "code",
   "execution_count": 13,
   "metadata": {},
   "outputs": [],
   "source": [
    "post1918dates, post1918divergences = zip(*[(date, diverge) for date, diverge in zip(meandates, divergences) if date > 1918])"
   ]
  },
  {
   "cell_type": "code",
   "execution_count": 14,
   "metadata": {},
   "outputs": [
    {
     "data": {
      "text/plain": [
       "(-0.49405243351249706, 8.510885503189807e-08)"
      ]
     },
     "execution_count": 14,
     "metadata": {},
     "output_type": "execute_result"
    }
   ],
   "source": [
    "pearsonr(post1918dates, post1918divergences)"
   ]
  },
  {
   "cell_type": "markdown",
   "metadata": {},
   "source": [
    "Yes, that's a strong linear relationship. It's by no means a close thing: definitely true."
   ]
  },
  {
   "cell_type": "markdown",
   "metadata": {},
   "source": [
    "## simple loss calculation\n",
    "\n",
    "All that is nice, but it's going to be too much to explain in PMLA. So let's run a simpler calculation of lost accuracy."
   ]
  },
  {
   "cell_type": "code",
   "execution_count": 16,
   "metadata": {},
   "outputs": [
    {
     "data": {
      "image/png": "[encoded data removed]",
      "text/plain": [
       "<matplotlib.figure.Figure at 0x1a2a899278>"
      ]
     },
     "metadata": {},
     "output_type": "display_data"
    }
   ],
   "source": [
    "## Let's group results by period and calculate average loss for each period\n",
    "\n",
    "meandates = []\n",
    "meanlosses = []\n",
    "dates4groups = []\n",
    "grouped_divergences = []\n",
    "\n",
    "grouped = results.groupby('ceiling')\n",
    "for ceil, df1 in grouped:\n",
    "    nextlevel = df1.groupby('iteration')\n",
    "    thisgroup = []\n",
    "    thesedates = []\n",
    "    for it, df2 in nextlevel:\n",
    "        meanloss = np.mean(df2.loss[df2.testype == 'cross'])\n",
    "        meandate1 = np.mean(df2.meandate1[df2.testype == 'cross'])\n",
    "        meandate2 = np.mean(df2.meandate2[df2.testype == 'cross'])\n",
    "        meanlosses.append(meanloss)\n",
    "        thisgroup.append(meanloss)\n",
    "        themeandate = (meandate1 + meandate2) / 2\n",
    "        meandates.append(themeandate)\n",
    "        thesedates.append(themeandate)\n",
    "    dates4groups.append(np.mean(thesedates))\n",
    "    grouped_divergences.append(thisgroup)\n",
    "\n",
    "fig, ax = plt.subplots(figsize = (10, 7))\n",
    "plt.scatter(meandates, meanlosses, facecolors = 'none', edgecolors = 'b', alpha = 0.6)\n",
    "plt.ylabel('percentage similarity')\n",
    "means4groups = [sum(x)/len(x) for x in grouped_divergences]\n",
    "plt.plot(dates4groups, means4groups, color = 'r')\n",
    "plt.show()"
   ]
  },
  {
   "cell_type": "code",
   "execution_count": 17,
   "metadata": {},
   "outputs": [
    {
     "data": {
      "text/plain": [
       "[0.10081642605666664,\n",
       " 0.08703703704,\n",
       " 0.10023148148333334,\n",
       " 0.11018518518666666,\n",
       " 0.09502314814333333,\n",
       " 0.09189814815333334,\n",
       " 0.08692129629666664,\n",
       " 0.07534722221333333,\n",
       " 0.058564814810000004]"
      ]
     },
     "execution_count": 17,
     "metadata": {},
     "output_type": "execute_result"
    }
   ],
   "source": [
    "means4groups"
   ]
  },
  {
   "cell_type": "markdown",
   "metadata": {
    "collapsed": true
   },
   "source": [
    "**Take-home conlusion** The trajectory revealed by a simple calculation of lost accuracy is not radically different from the more sophisticated and cautious calculations I was making above. In both cases, the only really clear trend in the data is a weakening of the boundary between fantasy and science fiction from 1940 to the present, accelerating markedly after 1980.\n",
    "\n",
    "In the more sensitive time series, you could argue that the trend has existed since 1920.\n",
    "\n",
    "It is worth noting that this conflicts with [a hypothesis I preregistered (#2).](https://osf.io/5b72w) I expected to see generic differentiation, overall, and it's pretty clear that we don't; if anything, we see the reverse."
   ]
  },
  {
   "cell_type": "markdown",
   "metadata": {},
   "source": [
    "# average differentiation between fantasy and science fiction\n",
    "\n",
    "This is where I get the 9-11% figure quoted in the article. It leaves out of account \"the last thirty years.\""
   ]
  },
  {
   "cell_type": "code",
   "execution_count": 22,
   "metadata": {},
   "outputs": [
    {
     "name": "stdout",
     "output_type": "stream",
     "text": [
      "0.0960161031942857\n",
      "0.11018518518666666 0.08692129629666664\n"
     ]
    }
   ],
   "source": [
    "print(sum(means4groups[0 : -2]) / len(means4groups[0: -2]))\n",
    "print(max(means4groups[0 : -2]), min (means4groups[0 : -2]))"
   ]
  },
  {
   "cell_type": "code",
   "execution_count": 25,
   "metadata": {},
   "outputs": [
    {
     "data": {
      "text/plain": [
       "0.058564814810000004"
      ]
     },
     "execution_count": 25,
     "metadata": {},
     "output_type": "execute_result"
    }
   ],
   "source": [
    "# Most recent differentiation (measured as lost accuracy):\n",
    "means4groups[-1]"
   ]
  },
  {
   "cell_type": "markdown",
   "metadata": {},
   "source": [
    "That's where I get the 6% figure quoted in the article."
   ]
  },
  {
   "cell_type": "code",
   "execution_count": null,
   "metadata": {},
   "outputs": [],
   "source": []
  }
 ],
 "metadata": {
  "anaconda-cloud": {},
  "kernelspec": {
   "display_name": "Python 3",
   "language": "python",
   "name": "python3"
  },
  "language_info": {
   "codemirror_mode": {
    "name": "ipython",
    "version": 3
   },
   "file_extension": ".py",
   "mimetype": "text/x-python",
   "name": "python",
   "nbconvert_exporter": "python",
   "pygments_lexer": "ipython3",
   "version": "3.5.2"
  }
 },
 "nbformat": 4,
 "nbformat_minor": 2
}
