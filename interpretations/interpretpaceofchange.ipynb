{
 "cells": [
  {
   "cell_type": "code",
   "execution_count": 1,
   "metadata": {},
   "outputs": [],
   "source": [
    "# Let's start with some standard imports.\n",
    "\n",
    "import pandas as pd\n",
    "from matplotlib import pyplot as plt\n",
    "from scipy.stats import pearsonr\n",
    "import numpy as np\n",
    "%matplotlib inline"
   ]
  },
  {
   "cell_type": "code",
   "execution_count": 2,
   "metadata": {},
   "outputs": [
    {
     "data": {
      "text/html": [
       "<div>\n",
       "<table border=\"1\" class=\"dataframe\">\n",
       "  <thead>\n",
       "    <tr style=\"text-align: right;\">\n",
       "      <th></th>\n",
       "      <th>testype</th>\n",
       "      <th>name1</th>\n",
       "      <th>name2</th>\n",
       "      <th>ceiling1</th>\n",
       "      <th>floor1</th>\n",
       "      <th>ceiling2</th>\n",
       "      <th>floor2</th>\n",
       "      <th>meandate1</th>\n",
       "      <th>meandate2</th>\n",
       "      <th>acc1</th>\n",
       "      <th>acc2</th>\n",
       "      <th>alienacc1</th>\n",
       "      <th>alienacc2</th>\n",
       "      <th>spearman</th>\n",
       "      <th>spear1on2</th>\n",
       "      <th>spear2on1</th>\n",
       "      <th>loss</th>\n",
       "      <th>loss1on2</th>\n",
       "      <th>loss2on1</th>\n",
       "    </tr>\n",
       "  </thead>\n",
       "  <tbody>\n",
       "    <tr>\n",
       "      <th>0</th>\n",
       "      <td>self</td>\n",
       "      <td>rccsf1870_1899_0_1</td>\n",
       "      <td>rccsf1870_1899_0_2</td>\n",
       "      <td>1899</td>\n",
       "      <td>1870</td>\n",
       "      <td>1899</td>\n",
       "      <td>1870</td>\n",
       "      <td>1887.90</td>\n",
       "      <td>1885.25</td>\n",
       "      <td>0.78</td>\n",
       "      <td>0.80</td>\n",
       "      <td>0.72</td>\n",
       "      <td>0.80</td>\n",
       "      <td>1.305137</td>\n",
       "      <td>1.262228</td>\n",
       "      <td>1.348046</td>\n",
       "      <td>0.030</td>\n",
       "      <td>0.00</td>\n",
       "      <td>0.06</td>\n",
       "    </tr>\n",
       "    <tr>\n",
       "      <th>1</th>\n",
       "      <td>cross</td>\n",
       "      <td>rccsf1870_1899_0_1</td>\n",
       "      <td>rccsf1900_1929_0_1</td>\n",
       "      <td>1899</td>\n",
       "      <td>1870</td>\n",
       "      <td>1929</td>\n",
       "      <td>1900</td>\n",
       "      <td>1887.90</td>\n",
       "      <td>1912.23</td>\n",
       "      <td>0.78</td>\n",
       "      <td>0.88</td>\n",
       "      <td>0.75</td>\n",
       "      <td>0.87</td>\n",
       "      <td>1.244858</td>\n",
       "      <td>1.271877</td>\n",
       "      <td>1.217840</td>\n",
       "      <td>0.020</td>\n",
       "      <td>0.01</td>\n",
       "      <td>0.03</td>\n",
       "    </tr>\n",
       "    <tr>\n",
       "      <th>2</th>\n",
       "      <td>cross</td>\n",
       "      <td>rccsf1870_1899_0_1</td>\n",
       "      <td>rccsf1900_1929_1_1</td>\n",
       "      <td>1899</td>\n",
       "      <td>1870</td>\n",
       "      <td>1929</td>\n",
       "      <td>1900</td>\n",
       "      <td>1887.90</td>\n",
       "      <td>1912.80</td>\n",
       "      <td>0.78</td>\n",
       "      <td>0.90</td>\n",
       "      <td>0.78</td>\n",
       "      <td>0.79</td>\n",
       "      <td>1.129611</td>\n",
       "      <td>1.131644</td>\n",
       "      <td>1.127579</td>\n",
       "      <td>0.055</td>\n",
       "      <td>0.11</td>\n",
       "      <td>0.00</td>\n",
       "    </tr>\n",
       "    <tr>\n",
       "      <th>3</th>\n",
       "      <td>cross</td>\n",
       "      <td>rccsf1870_1899_0_2</td>\n",
       "      <td>rccsf1900_1929_2_2</td>\n",
       "      <td>1899</td>\n",
       "      <td>1870</td>\n",
       "      <td>1929</td>\n",
       "      <td>1900</td>\n",
       "      <td>1885.25</td>\n",
       "      <td>1912.69</td>\n",
       "      <td>0.80</td>\n",
       "      <td>0.92</td>\n",
       "      <td>0.82</td>\n",
       "      <td>0.76</td>\n",
       "      <td>1.434979</td>\n",
       "      <td>1.376460</td>\n",
       "      <td>1.493498</td>\n",
       "      <td>0.070</td>\n",
       "      <td>0.16</td>\n",
       "      <td>-0.02</td>\n",
       "    </tr>\n",
       "    <tr>\n",
       "      <th>4</th>\n",
       "      <td>cross</td>\n",
       "      <td>rccsf1870_1899_0_2</td>\n",
       "      <td>rccsf1900_1929_3_2</td>\n",
       "      <td>1899</td>\n",
       "      <td>1870</td>\n",
       "      <td>1929</td>\n",
       "      <td>1900</td>\n",
       "      <td>1885.25</td>\n",
       "      <td>1912.52</td>\n",
       "      <td>0.80</td>\n",
       "      <td>0.91</td>\n",
       "      <td>0.82</td>\n",
       "      <td>0.80</td>\n",
       "      <td>1.583865</td>\n",
       "      <td>1.539755</td>\n",
       "      <td>1.627974</td>\n",
       "      <td>0.045</td>\n",
       "      <td>0.11</td>\n",
       "      <td>-0.02</td>\n",
       "    </tr>\n",
       "  </tbody>\n",
       "</table>\n",
       "</div>"
      ],
      "text/plain": [
       "  testype               name1               name2  ceiling1  floor1  ceiling2  \\\n",
       "0    self  rccsf1870_1899_0_1  rccsf1870_1899_0_2      1899    1870      1899   \n",
       "1   cross  rccsf1870_1899_0_1  rccsf1900_1929_0_1      1899    1870      1929   \n",
       "2   cross  rccsf1870_1899_0_1  rccsf1900_1929_1_1      1899    1870      1929   \n",
       "3   cross  rccsf1870_1899_0_2  rccsf1900_1929_2_2      1899    1870      1929   \n",
       "4   cross  rccsf1870_1899_0_2  rccsf1900_1929_3_2      1899    1870      1929   \n",
       "\n",
       "   floor2  meandate1  meandate2  acc1  acc2  alienacc1  alienacc2  spearman  \\\n",
       "0    1870    1887.90    1885.25  0.78  0.80       0.72       0.80  1.305137   \n",
       "1    1900    1887.90    1912.23  0.78  0.88       0.75       0.87  1.244858   \n",
       "2    1900    1887.90    1912.80  0.78  0.90       0.78       0.79  1.129611   \n",
       "3    1900    1885.25    1912.69  0.80  0.92       0.82       0.76  1.434979   \n",
       "4    1900    1885.25    1912.52  0.80  0.91       0.82       0.80  1.583865   \n",
       "\n",
       "   spear1on2  spear2on1   loss  loss1on2  loss2on1  \n",
       "0   1.262228   1.348046  0.030      0.00      0.06  \n",
       "1   1.271877   1.217840  0.020      0.01      0.03  \n",
       "2   1.131644   1.127579  0.055      0.11      0.00  \n",
       "3   1.376460   1.493498  0.070      0.16     -0.02  \n",
       "4   1.539755   1.627974  0.045      0.11     -0.02  "
      ]
     },
     "execution_count": 2,
     "metadata": {},
     "output_type": "execute_result"
    }
   ],
   "source": [
    "# Load the data and take a look.\n",
    "\n",
    "results = pd.read_csv('../results/change_comparisons.tsv', sep = '\\t')\n",
    "results.head()"
   ]
  },
  {
   "cell_type": "code",
   "execution_count": 3,
   "metadata": {},
   "outputs": [
    {
     "data": {
      "image/png": "[encoded data removed]",
      "text/plain": [
       "<matplotlib.figure.Figure at 0x1214d29e8>"
      ]
     },
     "metadata": {},
     "output_type": "display_data"
    }
   ],
   "source": [
    "# Let's group self-comparisons by period\n",
    "ceiling2meanself = dict()\n",
    "selfcomp = results[results.testype == 'self']\n",
    "\n",
    "grouped = selfcomp.groupby('ceiling1')\n",
    "# for a self-comparison ceiling1 is the same as ceiling2\n",
    "\n",
    "for ceil, df in grouped:\n",
    "    ceiling2meanself[ceil] = np.mean(df.spearman)\n",
    "\n",
    "changepace = []\n",
    "meandates = []\n",
    "losses = []\n",
    "normless = []\n",
    "\n",
    "for idx, row in results.iterrows():\n",
    "    if row['testype'] == 'self':\n",
    "        continue\n",
    "    \n",
    "    norm = (ceiling2meanself[row['ceiling1']] + ceiling2meanself[row['ceiling2']]) / 2\n",
    "    # norm = max(ceiling2meanself[row['ceiling1']], ceiling2meanself[row['ceiling2']])\n",
    "    meandates.append(row['floor2'])\n",
    "    changepace.append(row['spearman'] / norm)\n",
    "    losses.append(row['loss'])\n",
    "    normless.append(row['spearman'])\n",
    "    \n",
    "\n",
    "newdf = pd.DataFrame()\n",
    "fig, ax = plt.subplots(figsize = (8, 6))\n",
    "plt.scatter(meandates, changepace, facecolors = 'none', edgecolors = 'b', alpha = 0.6)\n",
    "summary = pd.DataFrame({'date' : meandates, 'pace' : changepace})\n",
    "groups = summary.groupby('date')\n",
    "meanpace = groups.aggregate(np.mean)\n",
    "plt.plot(meanpace.index, meanpace.pace, color = 'r')\n",
    "plt.ylabel('percentage similarity')\n",
    "plt.show()"
   ]
  },
  {
   "cell_type": "code",
   "execution_count": 4,
   "metadata": {},
   "outputs": [
    {
     "data": {
      "text/html": [
       "<div>\n",
       "<table border=\"1\" class=\"dataframe\">\n",
       "  <thead>\n",
       "    <tr style=\"text-align: right;\">\n",
       "      <th></th>\n",
       "      <th>pace</th>\n",
       "    </tr>\n",
       "    <tr>\n",
       "      <th>date</th>\n",
       "      <th></th>\n",
       "    </tr>\n",
       "  </thead>\n",
       "  <tbody>\n",
       "    <tr>\n",
       "      <th>1900</th>\n",
       "      <td>1.050956</td>\n",
       "    </tr>\n",
       "    <tr>\n",
       "      <th>1910</th>\n",
       "      <td>0.979168</td>\n",
       "    </tr>\n",
       "    <tr>\n",
       "      <th>1920</th>\n",
       "      <td>0.978344</td>\n",
       "    </tr>\n",
       "    <tr>\n",
       "      <th>1930</th>\n",
       "      <td>0.837067</td>\n",
       "    </tr>\n",
       "    <tr>\n",
       "      <th>1940</th>\n",
       "      <td>0.788616</td>\n",
       "    </tr>\n",
       "    <tr>\n",
       "      <th>1950</th>\n",
       "      <td>0.941961</td>\n",
       "    </tr>\n",
       "    <tr>\n",
       "      <th>1960</th>\n",
       "      <td>0.962607</td>\n",
       "    </tr>\n",
       "    <tr>\n",
       "      <th>1970</th>\n",
       "      <td>0.869815</td>\n",
       "    </tr>\n",
       "    <tr>\n",
       "      <th>1980</th>\n",
       "      <td>0.913752</td>\n",
       "    </tr>\n",
       "    <tr>\n",
       "      <th>1990</th>\n",
       "      <td>1.013073</td>\n",
       "    </tr>\n",
       "  </tbody>\n",
       "</table>\n",
       "</div>"
      ],
      "text/plain": [
       "          pace\n",
       "date          \n",
       "1900  1.050956\n",
       "1910  0.979168\n",
       "1920  0.978344\n",
       "1930  0.837067\n",
       "1940  0.788616\n",
       "1950  0.941961\n",
       "1960  0.962607\n",
       "1970  0.869815\n",
       "1980  0.913752\n",
       "1990  1.013073"
      ]
     },
     "execution_count": 4,
     "metadata": {},
     "output_type": "execute_result"
    }
   ],
   "source": [
    "meanpace"
   ]
  },
  {
   "cell_type": "code",
   "execution_count": 5,
   "metadata": {},
   "outputs": [],
   "source": [
    "meanpace.to_csv('meanpacefrominterpretpaceofchange.csv')"
   ]
  },
  {
   "cell_type": "code",
   "execution_count": 6,
   "metadata": {},
   "outputs": [
    {
     "data": {
      "text/plain": [
       "{1899: 1.19667133221,\n",
       " 1909: 1.1455291662040001,\n",
       " 1919: 1.283371089074,\n",
       " 1929: 1.462436685456,\n",
       " 1939: 1.4488483101239999,\n",
       " 1949: 1.486571806578,\n",
       " 1959: 1.3638440798039997,\n",
       " 1969: 1.3546753642280003,\n",
       " 1979: 1.3908257371399997,\n",
       " 1989: 1.4416781555280003,\n",
       " 1999: 1.4444489394939999,\n",
       " 2009: 1.381365090966,\n",
       " 2010: 1.2139763545649997}"
      ]
     },
     "execution_count": 6,
     "metadata": {},
     "output_type": "execute_result"
    }
   ],
   "source": [
    "ceiling2meanself"
   ]
  },
  {
   "cell_type": "code",
   "execution_count": 7,
   "metadata": {},
   "outputs": [
    {
     "data": {
      "text/plain": [
       "(-0.66551567708906445, 2.3637240186484631e-33)"
      ]
     },
     "execution_count": 7,
     "metadata": {},
     "output_type": "execute_result"
    }
   ],
   "source": [
    "pearsonr(normless, losses)"
   ]
  },
  {
   "cell_type": "code",
   "execution_count": 8,
   "metadata": {},
   "outputs": [
    {
     "data": {
      "text/plain": [
       "(-0.66559123867446846, 2.3111309854797484e-33)"
      ]
     },
     "execution_count": 8,
     "metadata": {},
     "output_type": "execute_result"
    }
   ],
   "source": [
    "pearsonr(changepace, losses)"
   ]
  },
  {
   "cell_type": "code",
   "execution_count": 9,
   "metadata": {},
   "outputs": [
    {
     "data": {
      "image/png": "[encoded data removed]",
      "text/plain": [
       "<matplotlib.figure.Figure at 0x1214b3f60>"
      ]
     },
     "metadata": {},
     "output_type": "display_data"
    }
   ],
   "source": [
    "fig, ax = plt.subplots(figsize = (8, 6))\n",
    "plt.scatter(meandates, losses, facecolors = 'none', edgecolors = 'b', alpha = 0.6)\n",
    "plt.show()"
   ]
  },
  {
   "cell_type": "code",
   "execution_count": null,
   "metadata": {},
   "outputs": [],
   "source": []
  }
 ],
 "metadata": {
  "kernelspec": {
   "display_name": "Python 3",
   "language": "python",
   "name": "python3"
  },
  "language_info": {
   "codemirror_mode": {
    "name": "ipython",
    "version": 3
   },
   "file_extension": ".py",
   "mimetype": "text/x-python",
   "name": "python",
   "nbconvert_exporter": "python",
   "pygments_lexer": "ipython3",
   "version": "3.5.2"
  }
 },
 "nbformat": 4,
 "nbformat_minor": 2
}
